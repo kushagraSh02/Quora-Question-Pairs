{
 "cells": [
  {
   "cell_type": "code",
   "execution_count": 1,
   "id": "71ee5a7d",
   "metadata": {},
   "outputs": [],
   "source": [
    "import numpy as np\n",
    "import pandas as pd\n",
    "import re\n",
    "import tensorflow as tf"
   ]
  },
  {
   "cell_type": "code",
   "execution_count": 9,
   "id": "bdf39c55",
   "metadata": {},
   "outputs": [],
   "source": [
    "from tensorflow.keras.preprocessing.text import Tokenizer\n",
    "from tensorflow.keras.preprocessing.sequence import pad_sequences\n",
    "from tensorflow.keras import utils\n",
    "from tensorflow.keras.models import Model\n",
    "from tensorflow.keras.layers import Input, Embedding, LSTM, Dropout, concatenate, Dense, BatchNormalization, Lambda, TimeDistributed, Dot, dot\n",
    "import tensorflow.keras.backend as K\n",
    "from tensorflow.keras.optimizers import Adadelta\n",
    "from tensorflow.keras.callbacks import ModelCheckpoint"
   ]
  },
  {
   "cell_type": "code",
   "execution_count": 10,
   "id": "99d3ba48",
   "metadata": {},
   "outputs": [],
   "source": [
    "from sklearn.model_selection import train_test_split\n",
    "\n",
    "from zipfile import ZipFile\n",
    "from os.path import expanduser, exists\n",
    "\n",
    "import datetime\n",
    "import time"
   ]
  },
  {
   "cell_type": "code",
   "execution_count": 12,
   "id": "667fddeb",
   "metadata": {},
   "outputs": [
    {
     "name": "stdout",
     "output_type": "stream",
     "text": [
      "Collecting hyperdash\n",
      "  Downloading hyperdash-0.15.3.tar.gz (24 kB)\n",
      "  Preparing metadata (setup.py): started\n",
      "  Preparing metadata (setup.py): finished with status 'done'\n",
      "Requirement already satisfied: requests in c:\\users\\kusha\\appdata\\local\\programs\\python\\python310\\lib\\site-packages (from hyperdash) (2.28.2)\n",
      "Requirement already satisfied: six>=1.10.0 in c:\\users\\kusha\\appdata\\local\\programs\\python\\python310\\lib\\site-packages (from hyperdash) (1.16.0)\n",
      "Collecting python-slugify\n",
      "  Downloading python_slugify-8.0.1-py2.py3-none-any.whl (9.7 kB)\n",
      "Collecting text-unidecode>=1.3\n",
      "  Downloading text_unidecode-1.3-py2.py3-none-any.whl (78 kB)\n",
      "     ---------------------------------------- 78.2/78.2 kB 1.4 MB/s eta 0:00:00\n",
      "Requirement already satisfied: certifi>=2017.4.17 in c:\\users\\kusha\\appdata\\local\\programs\\python\\python310\\lib\\site-packages (from requests->hyperdash) (2022.12.7)\n",
      "Requirement already satisfied: charset-normalizer<4,>=2 in c:\\users\\kusha\\appdata\\local\\programs\\python\\python310\\lib\\site-packages (from requests->hyperdash) (3.0.1)\n",
      "Requirement already satisfied: urllib3<1.27,>=1.21.1 in c:\\users\\kusha\\appdata\\local\\programs\\python\\python310\\lib\\site-packages (from requests->hyperdash) (1.26.14)\n",
      "Requirement already satisfied: idna<4,>=2.5 in c:\\users\\kusha\\appdata\\local\\programs\\python\\python310\\lib\\site-packages (from requests->hyperdash) (3.4)\n",
      "Building wheels for collected packages: hyperdash\n",
      "  Building wheel for hyperdash (setup.py): started\n",
      "  Building wheel for hyperdash (setup.py): finished with status 'done'\n",
      "  Created wheel for hyperdash: filename=hyperdash-0.15.3-py3-none-any.whl size=28540 sha256=46242449d53f0fadb510229186966a007b6a5ff46e9c014bb4b0836dce008fb0\n",
      "  Stored in directory: c:\\users\\kusha\\appdata\\local\\pip\\cache\\wheels\\c4\\81\\b7\\d2f1793af02103e7fed6df39b349274d8e8114ff9f7a1270f5\n",
      "Successfully built hyperdash\n",
      "Installing collected packages: text-unidecode, python-slugify, hyperdash\n",
      "Successfully installed hyperdash-0.15.3 python-slugify-8.0.1 text-unidecode-1.3\n"
     ]
    },
    {
     "name": "stderr",
     "output_type": "stream",
     "text": [
      "\n",
      "[notice] A new release of pip available: 22.3.1 -> 23.0.1\n",
      "[notice] To update, run: python.exe -m pip install --upgrade pip\n"
     ]
    }
   ],
   "source": [
    "!pip install hyperdash\n",
    "from hyperdash import monitor_cell\n",
    "import json"
   ]
  },
  {
   "cell_type": "markdown",
   "id": "881d0dd2",
   "metadata": {},
   "source": [
    "## Cleaning and Analysis"
   ]
  },
  {
   "cell_type": "code",
   "execution_count": 13,
   "id": "809b9ec3",
   "metadata": {},
   "outputs": [
    {
     "data": {
      "text/html": [
       "<div>\n",
       "<style scoped>\n",
       "    .dataframe tbody tr th:only-of-type {\n",
       "        vertical-align: middle;\n",
       "    }\n",
       "\n",
       "    .dataframe tbody tr th {\n",
       "        vertical-align: top;\n",
       "    }\n",
       "\n",
       "    .dataframe thead th {\n",
       "        text-align: right;\n",
       "    }\n",
       "</style>\n",
       "<table border=\"1\" class=\"dataframe\">\n",
       "  <thead>\n",
       "    <tr style=\"text-align: right;\">\n",
       "      <th></th>\n",
       "      <th>id</th>\n",
       "      <th>qid1</th>\n",
       "      <th>qid2</th>\n",
       "      <th>question1</th>\n",
       "      <th>question2</th>\n",
       "      <th>is_duplicate</th>\n",
       "    </tr>\n",
       "  </thead>\n",
       "  <tbody>\n",
       "    <tr>\n",
       "      <th>0</th>\n",
       "      <td>0</td>\n",
       "      <td>1</td>\n",
       "      <td>2</td>\n",
       "      <td>What is the step by step guide to invest in sh...</td>\n",
       "      <td>What is the step by step guide to invest in sh...</td>\n",
       "      <td>0</td>\n",
       "    </tr>\n",
       "    <tr>\n",
       "      <th>1</th>\n",
       "      <td>1</td>\n",
       "      <td>3</td>\n",
       "      <td>4</td>\n",
       "      <td>What is the story of Kohinoor (Koh-i-Noor) Dia...</td>\n",
       "      <td>What would happen if the Indian government sto...</td>\n",
       "      <td>0</td>\n",
       "    </tr>\n",
       "    <tr>\n",
       "      <th>2</th>\n",
       "      <td>2</td>\n",
       "      <td>5</td>\n",
       "      <td>6</td>\n",
       "      <td>How can I increase the speed of my internet co...</td>\n",
       "      <td>How can Internet speed be increased by hacking...</td>\n",
       "      <td>0</td>\n",
       "    </tr>\n",
       "    <tr>\n",
       "      <th>3</th>\n",
       "      <td>3</td>\n",
       "      <td>7</td>\n",
       "      <td>8</td>\n",
       "      <td>Why am I mentally very lonely? How can I solve...</td>\n",
       "      <td>Find the remainder when [math]23^{24}[/math] i...</td>\n",
       "      <td>0</td>\n",
       "    </tr>\n",
       "    <tr>\n",
       "      <th>4</th>\n",
       "      <td>4</td>\n",
       "      <td>9</td>\n",
       "      <td>10</td>\n",
       "      <td>Which one dissolve in water quikly sugar, salt...</td>\n",
       "      <td>Which fish would survive in salt water?</td>\n",
       "      <td>0</td>\n",
       "    </tr>\n",
       "    <tr>\n",
       "      <th>...</th>\n",
       "      <td>...</td>\n",
       "      <td>...</td>\n",
       "      <td>...</td>\n",
       "      <td>...</td>\n",
       "      <td>...</td>\n",
       "      <td>...</td>\n",
       "    </tr>\n",
       "    <tr>\n",
       "      <th>363856</th>\n",
       "      <td>363856</td>\n",
       "      <td>493886</td>\n",
       "      <td>104093</td>\n",
       "      <td>Is there anyone from Mumbai preparing for UPSC?</td>\n",
       "      <td>Union Public Service Commission (India): What ...</td>\n",
       "      <td>0</td>\n",
       "    </tr>\n",
       "    <tr>\n",
       "      <th>363857</th>\n",
       "      <td>363857</td>\n",
       "      <td>493887</td>\n",
       "      <td>493888</td>\n",
       "      <td>Why is there a road named Aurangzeb in Delhi?</td>\n",
       "      <td>How do you justify naming a road after Aurangzeb?</td>\n",
       "      <td>0</td>\n",
       "    </tr>\n",
       "    <tr>\n",
       "      <th>363858</th>\n",
       "      <td>363858</td>\n",
       "      <td>14695</td>\n",
       "      <td>44317</td>\n",
       "      <td>How can I lose weight effectively?</td>\n",
       "      <td>How do I lose weight without stopping?</td>\n",
       "      <td>1</td>\n",
       "    </tr>\n",
       "    <tr>\n",
       "      <th>363859</th>\n",
       "      <td>363859</td>\n",
       "      <td>12342</td>\n",
       "      <td>493889</td>\n",
       "      <td>Why are old TV shows square shaped on modern s...</td>\n",
       "      <td>Why are computer and TV screens typically squa...</td>\n",
       "      <td>0</td>\n",
       "    </tr>\n",
       "    <tr>\n",
       "      <th>363860</th>\n",
       "      <td>363860</td>\n",
       "      <td>5902</td>\n",
       "      <td>17589</td>\n",
       "      <td>What are the safety precautions on handling sh...</td>\n",
       "      <td>What are the safety precautions on handling sh...</td>\n",
       "      <td>1</td>\n",
       "    </tr>\n",
       "  </tbody>\n",
       "</table>\n",
       "<p>363861 rows × 6 columns</p>\n",
       "</div>"
      ],
      "text/plain": [
       "            id    qid1    qid2  \\\n",
       "0            0       1       2   \n",
       "1            1       3       4   \n",
       "2            2       5       6   \n",
       "3            3       7       8   \n",
       "4            4       9      10   \n",
       "...        ...     ...     ...   \n",
       "363856  363856  493886  104093   \n",
       "363857  363857  493887  493888   \n",
       "363858  363858   14695   44317   \n",
       "363859  363859   12342  493889   \n",
       "363860  363860    5902   17589   \n",
       "\n",
       "                                                question1  \\\n",
       "0       What is the step by step guide to invest in sh...   \n",
       "1       What is the story of Kohinoor (Koh-i-Noor) Dia...   \n",
       "2       How can I increase the speed of my internet co...   \n",
       "3       Why am I mentally very lonely? How can I solve...   \n",
       "4       Which one dissolve in water quikly sugar, salt...   \n",
       "...                                                   ...   \n",
       "363856    Is there anyone from Mumbai preparing for UPSC?   \n",
       "363857      Why is there a road named Aurangzeb in Delhi?   \n",
       "363858                 How can I lose weight effectively?   \n",
       "363859  Why are old TV shows square shaped on modern s...   \n",
       "363860  What are the safety precautions on handling sh...   \n",
       "\n",
       "                                                question2  is_duplicate  \n",
       "0       What is the step by step guide to invest in sh...             0  \n",
       "1       What would happen if the Indian government sto...             0  \n",
       "2       How can Internet speed be increased by hacking...             0  \n",
       "3       Find the remainder when [math]23^{24}[/math] i...             0  \n",
       "4                 Which fish would survive in salt water?             0  \n",
       "...                                                   ...           ...  \n",
       "363856  Union Public Service Commission (India): What ...             0  \n",
       "363857  How do you justify naming a road after Aurangzeb?             0  \n",
       "363858             How do I lose weight without stopping?             1  \n",
       "363859  Why are computer and TV screens typically squa...             0  \n",
       "363860  What are the safety precautions on handling sh...             1  \n",
       "\n",
       "[363861 rows x 6 columns]"
      ]
     },
     "execution_count": 13,
     "metadata": {},
     "output_type": "execute_result"
    }
   ],
   "source": [
    "train_data = pd.read_csv('train.csv')\n",
    "train_data"
   ]
  },
  {
   "cell_type": "code",
   "execution_count": 14,
   "id": "ed3404a6",
   "metadata": {},
   "outputs": [],
   "source": [
    "train_df = train_data.copy()"
   ]
  },
  {
   "cell_type": "code",
   "execution_count": 15,
   "id": "f3d909d3",
   "metadata": {},
   "outputs": [
    {
     "data": {
      "text/plain": [
       "493391"
      ]
     },
     "execution_count": 15,
     "metadata": {},
     "output_type": "execute_result"
    }
   ],
   "source": [
    "q1_set = set(train_df['question1'].unique())\n",
    "q2_set = set(train_df['question2'].unique())\n",
    "all_ques = q1_set | q2_set\n",
    "len(all_ques)"
   ]
  },
  {
   "cell_type": "code",
   "execution_count": 17,
   "id": "ad7923ac",
   "metadata": {},
   "outputs": [
    {
     "name": "stdout",
     "output_type": "stream",
     "text": [
      "What is the step by step guide to invest in share market in india? : What is the step by step guide to invest in share market? : 0\n"
     ]
    }
   ],
   "source": [
    "q1_list = train_df['question1'].tolist()\n",
    "q2_list = train_df['question2'].tolist()\n",
    "q1_list = [str(que) for que in q1_list]\n",
    "q2_list = [str(que) for que in q2_list]\n",
    "is_duplicate = train_df['is_duplicate'].tolist()\n",
    "\n",
    "print(q1_list[0], ':', q2_list[0], ':', is_duplicate[0])"
   ]
  },
  {
   "cell_type": "code",
   "execution_count": 19,
   "id": "b155ac1b",
   "metadata": {},
   "outputs": [],
   "source": [
    "all_ques = q1_list + q2_list\n",
    "tokenizer = Tokenizer(num_words = 100000)\n",
    "tokenizer.fit_on_texts(all_ques)"
   ]
  },
  {
   "cell_type": "code",
   "execution_count": 20,
   "id": "7c3af29b",
   "metadata": {},
   "outputs": [
    {
     "name": "stdout",
     "output_type": "stream",
     "text": [
      "Words in index : 91013\n"
     ]
    }
   ],
   "source": [
    "q1_seq = tokenizer.texts_to_sequences(q1_list)\n",
    "q2_seq = tokenizer.texts_to_sequences(q2_list)\n",
    "word_index = tokenizer.word_index\n",
    "\n",
    "print(f'Words in index : {len(word_index)}')"
   ]
  },
  {
   "cell_type": "code",
   "execution_count": 21,
   "id": "d538538d",
   "metadata": {},
   "outputs": [],
   "source": [
    "dictionary = word_index\n",
    "with open('dictionary.json', 'w') as dictionary_file:\n",
    "    json.dump(dictionary, dictionary_file)"
   ]
  },
  {
   "cell_type": "code",
   "execution_count": 23,
   "id": "cd7a39c2",
   "metadata": {},
   "outputs": [
    {
     "name": "stdout",
     "output_type": "stream",
     "text": [
      "Downloading data from http://nlp.stanford.edu/data/glove.840B.300d.zip\n",
      "2176768927/2176768927 [==============================] - 4295s 2us/step\n"
     ]
    }
   ],
   "source": [
    "GLOVE_DOWNLOAD_URL = 'http://nlp.stanford.edu/data/glove.840B.300d.zip'\n",
    "\n",
    "if not exists(expanduser('~/.keras/datasets/glove.840B.300d.zip')):\n",
    "    zipfile = ZipFile(utils.get_file('glove.840B.300d.zip', GLOVE_DOWNLOAD_URL))\n",
    "    zipfile.extract('glove.840B.300d.txt', path=expanduser('~/.keras/datasets/'))\n"
   ]
  },
  {
   "cell_type": "code",
   "execution_count": 27,
   "id": "d7e780c2",
   "metadata": {},
   "outputs": [
    {
     "name": "stdout",
     "output_type": "stream",
     "text": [
      "Word embeddings : 2196016\n"
     ]
    }
   ],
   "source": [
    "embeddings_index = {}\n",
    "with open(expanduser('~/.keras/datasets/glove.840B.300d.txt'), encoding='utf-8') as f:\n",
    "    for line in f:\n",
    "        values = line.split(' ')\n",
    "        word = values[0]\n",
    "        embedding = np.asarray(values[1:], dtype='float32')\n",
    "        embeddings_index[word] = embedding\n",
    "\n",
    "print(f'Word embeddings : {len(embeddings_index)}')"
   ]
  },
  {
   "cell_type": "code",
   "execution_count": 28,
   "id": "94c13def",
   "metadata": {},
   "outputs": [
    {
     "name": "stdout",
     "output_type": "stream",
     "text": [
      "Null Word Embeddings : 27053\n"
     ]
    }
   ],
   "source": [
    "MAX_NB_WORDS = 100000\n",
    "EMBEDDING_DIM = 300\n",
    "\n",
    "nb_words = min(MAX_NB_WORDS, len(word_index))\n",
    "word_embedding_matrix = np.zeros((nb_words+1, EMBEDDING_DIM))\n",
    "for word, i in word_index.items():\n",
    "    if i>MAX_NB_WORDS:\n",
    "        continue\n",
    "    embedding_vector = embeddings_index.get(word)\n",
    "    if embedding_vector is not None:\n",
    "        word_embedding_matrix[i] = embedding_vector\n",
    "\n",
    "print(f'Null Word Embeddings : {np.sum(np.sum(word_embedding_matrix, axis=1)==0)}')"
   ]
  },
  {
   "cell_type": "code",
   "execution_count": 29,
   "id": "a939cada",
   "metadata": {},
   "outputs": [
    {
     "data": {
      "text/plain": [
       "[[2, 3, 1, 1245, 57, 1245, 2546, 7, 577, 8, 772, 379, 8, 35],\n",
       " [2, 3, 1, 562, 10, 13509, 14684, 5, 21439, 4449],\n",
       " [4, 13, 5, 219, 1, 439, 10, 17, 364, 1848, 205, 146, 6, 2836],\n",
       " [16, 72, 5, 2693, 309, 2764, 4, 13, 5, 661, 19],\n",
       " [23, 49, 7202, 8, 233, 33752, 1906, 2077, 10473, 12, 1927, 10671, 6462]]"
      ]
     },
     "execution_count": 29,
     "metadata": {},
     "output_type": "execute_result"
    }
   ],
   "source": [
    "q1_seq[0:5]"
   ]
  },
  {
   "cell_type": "code",
   "execution_count": 30,
   "id": "f0d1722a",
   "metadata": {},
   "outputs": [
    {
     "data": {
      "text/plain": [
       "127"
      ]
     },
     "execution_count": 30,
     "metadata": {},
     "output_type": "execute_result"
    }
   ],
   "source": [
    "max_seq_len = 0\n",
    "for ques in q1_seq:\n",
    "    if(len(ques)>max_seq_len_len):\n",
    "        max_seq_len = len(ques)\n",
    "max_seq_len"
   ]
  },
  {
   "cell_type": "code",
   "execution_count": 33,
   "id": "6b4022a6",
   "metadata": {},
   "outputs": [
    {
     "name": "stdout",
     "output_type": "stream",
     "text": [
      "Shape of question1 data tensor: (363861, 130)\n",
      "Shape of question2 data tensor: (363861, 130)\n",
      "Shape of label tensor: (363861,)\n"
     ]
    }
   ],
   "source": [
    "MAX_SEQUENCE_LENGTH = 130\n",
    "\n",
    "q1_data = pad_sequences(q1_seq, maxlen=MAX_SEQUENCE_LENGTH)\n",
    "q2_data = pad_sequences(q2_seq, maxlen=MAX_SEQUENCE_LENGTH)\n",
    "labels = np.array(is_duplicate, dtype=int)\n",
    "print('Shape of question1 data tensor:', q1_data.shape)\n",
    "print('Shape of question2 data tensor:', q2_data.shape)\n",
    "print('Shape of label tensor:', labels.shape)"
   ]
  },
  {
   "cell_type": "code",
   "execution_count": 35,
   "id": "d6f99bb4",
   "metadata": {},
   "outputs": [
    {
     "data": {
      "text/plain": [
       "array([[    0,     0,     0,     0,     0,     0,     0,     0,     0,\n",
       "            0,     0,     0,     0,     0,     0,     0,     0,     0,\n",
       "            0,     0,     0,     0,     0,     0,     0,     0,     0,\n",
       "            0,     0,     0,     0,     0,     0,     0,     0,     0,\n",
       "            0,     0,     0,     0,     0,     0,     0,     0,     0,\n",
       "            0,     0,     0,     0,     0,     0,     0,     0,     0,\n",
       "            0,     0,     0,     0,     0,     0,     0,     0,     0,\n",
       "            0,     0,     0,     0,     0,     0,     0,     0,     0,\n",
       "            0,     0,     0,     0,     0,     0,     0,     0,     0,\n",
       "            0,     0,     0,     0,     0,     0,     0,     0,     0,\n",
       "            0,     0,     0,     0,     0,     0,     0,     0,     0,\n",
       "            0,     0,     0,     0,     0,     0,     0,     0,     0,\n",
       "            0,     0,     0,     0,     0,     0,     0,     0,     2,\n",
       "            3,     1,  1245,    57,  1245,  2546,     7,   577,     8,\n",
       "          772,   379,     8,    35],\n",
       "       [    0,     0,     0,     0,     0,     0,     0,     0,     0,\n",
       "            0,     0,     0,     0,     0,     0,     0,     0,     0,\n",
       "            0,     0,     0,     0,     0,     0,     0,     0,     0,\n",
       "            0,     0,     0,     0,     0,     0,     0,     0,     0,\n",
       "            0,     0,     0,     0,     0,     0,     0,     0,     0,\n",
       "            0,     0,     0,     0,     0,     0,     0,     0,     0,\n",
       "            0,     0,     0,     0,     0,     0,     0,     0,     0,\n",
       "            0,     0,     0,     0,     0,     0,     0,     0,     0,\n",
       "            0,     0,     0,     0,     0,     0,     0,     0,     0,\n",
       "            0,     0,     0,     0,     0,     0,     0,     0,     0,\n",
       "            0,     0,     0,     0,     0,     0,     0,     0,     0,\n",
       "            0,     0,     0,     0,     0,     0,     0,     0,     0,\n",
       "            0,     0,     0,     0,     0,     0,     0,     0,     0,\n",
       "            0,     0,     0,     2,     3,     1,   562,    10, 13509,\n",
       "        14684,     5, 21439,  4449],\n",
       "       [    0,     0,     0,     0,     0,     0,     0,     0,     0,\n",
       "            0,     0,     0,     0,     0,     0,     0,     0,     0,\n",
       "            0,     0,     0,     0,     0,     0,     0,     0,     0,\n",
       "            0,     0,     0,     0,     0,     0,     0,     0,     0,\n",
       "            0,     0,     0,     0,     0,     0,     0,     0,     0,\n",
       "            0,     0,     0,     0,     0,     0,     0,     0,     0,\n",
       "            0,     0,     0,     0,     0,     0,     0,     0,     0,\n",
       "            0,     0,     0,     0,     0,     0,     0,     0,     0,\n",
       "            0,     0,     0,     0,     0,     0,     0,     0,     0,\n",
       "            0,     0,     0,     0,     0,     0,     0,     0,     0,\n",
       "            0,     0,     0,     0,     0,     0,     0,     0,     0,\n",
       "            0,     0,     0,     0,     0,     0,     0,     0,     0,\n",
       "            0,     0,     0,     0,     0,     0,     0,     0,     4,\n",
       "           13,     5,   219,     1,   439,    10,    17,   364,  1848,\n",
       "          205,   146,     6,  2836],\n",
       "       [    0,     0,     0,     0,     0,     0,     0,     0,     0,\n",
       "            0,     0,     0,     0,     0,     0,     0,     0,     0,\n",
       "            0,     0,     0,     0,     0,     0,     0,     0,     0,\n",
       "            0,     0,     0,     0,     0,     0,     0,     0,     0,\n",
       "            0,     0,     0,     0,     0,     0,     0,     0,     0,\n",
       "            0,     0,     0,     0,     0,     0,     0,     0,     0,\n",
       "            0,     0,     0,     0,     0,     0,     0,     0,     0,\n",
       "            0,     0,     0,     0,     0,     0,     0,     0,     0,\n",
       "            0,     0,     0,     0,     0,     0,     0,     0,     0,\n",
       "            0,     0,     0,     0,     0,     0,     0,     0,     0,\n",
       "            0,     0,     0,     0,     0,     0,     0,     0,     0,\n",
       "            0,     0,     0,     0,     0,     0,     0,     0,     0,\n",
       "            0,     0,     0,     0,     0,     0,     0,     0,     0,\n",
       "            0,     0,    16,    72,     5,  2693,   309,  2764,     4,\n",
       "           13,     5,   661,    19],\n",
       "       [    0,     0,     0,     0,     0,     0,     0,     0,     0,\n",
       "            0,     0,     0,     0,     0,     0,     0,     0,     0,\n",
       "            0,     0,     0,     0,     0,     0,     0,     0,     0,\n",
       "            0,     0,     0,     0,     0,     0,     0,     0,     0,\n",
       "            0,     0,     0,     0,     0,     0,     0,     0,     0,\n",
       "            0,     0,     0,     0,     0,     0,     0,     0,     0,\n",
       "            0,     0,     0,     0,     0,     0,     0,     0,     0,\n",
       "            0,     0,     0,     0,     0,     0,     0,     0,     0,\n",
       "            0,     0,     0,     0,     0,     0,     0,     0,     0,\n",
       "            0,     0,     0,     0,     0,     0,     0,     0,     0,\n",
       "            0,     0,     0,     0,     0,     0,     0,     0,     0,\n",
       "            0,     0,     0,     0,     0,     0,     0,     0,     0,\n",
       "            0,     0,     0,     0,     0,     0,     0,     0,     0,\n",
       "           23,    49,  7202,     8,   233, 33752,  1906,  2077, 10473,\n",
       "           12,  1927, 10671,  6462]])"
      ]
     },
     "execution_count": 35,
     "metadata": {},
     "output_type": "execute_result"
    }
   ],
   "source": [
    "q1_data[0:5]"
   ]
  },
  {
   "cell_type": "code",
   "execution_count": 36,
   "id": "011e9885",
   "metadata": {},
   "outputs": [
    {
     "data": {
      "text/plain": [
       "(363861, 2, 130)"
      ]
     },
     "execution_count": 36,
     "metadata": {},
     "output_type": "execute_result"
    }
   ],
   "source": [
    "X = np.stack((q1_data, q2_data), axis=1)\n",
    "y = labels\n",
    "X.shape"
   ]
  },
  {
   "cell_type": "code",
   "execution_count": 37,
   "id": "7f3e4150",
   "metadata": {},
   "outputs": [
    {
     "data": {
      "text/plain": [
       "(254702, 130)"
      ]
     },
     "execution_count": 37,
     "metadata": {},
     "output_type": "execute_result"
    }
   ],
   "source": [
    "X_train, X_test, y_train, y_test = train_test_split(X, y, test_size=0.3, random_state=42)\n",
    "Q1_train = X_train[:,0]\n",
    "Q2_train = X_train[:,1]\n",
    "Q1_test = X_test[:,0]\n",
    "Q2_test = X_test[:,1]\n",
    "Q1_train.shape"
   ]
  },
  {
   "cell_type": "code",
   "execution_count": 38,
   "id": "a2fdfe63",
   "metadata": {},
   "outputs": [
    {
     "data": {
      "text/plain": [
       "array([[   0,    0,    0, ...,   14,  128,  785],\n",
       "       [   0,    0,    0, ...,  180, 1670,  161],\n",
       "       [   0,    0,    0, ..., 1453, 1346, 7721],\n",
       "       ...,\n",
       "       [   0,    0,    0, ...,   35,   12,   16],\n",
       "       [   0,    0,    0, ...,   14, 2047, 6171],\n",
       "       [   0,    0,    0, ...,    6, 2924, 6972]])"
      ]
     },
     "execution_count": 38,
     "metadata": {},
     "output_type": "execute_result"
    }
   ],
   "source": [
    "Q1_train"
   ]
  },
  {
   "cell_type": "markdown",
   "id": "c4bdb19f",
   "metadata": {},
   "source": [
    "## Model"
   ]
  },
  {
   "cell_type": "code",
   "execution_count": 50,
   "id": "a74d1136",
   "metadata": {},
   "outputs": [
    {
     "name": "stdout",
     "output_type": "stream",
     "text": [
      "Model: \"model_2\"\n",
      "__________________________________________________________________________________________________\n",
      " Layer (type)                   Output Shape         Param #     Connected to                     \n",
      "==================================================================================================\n",
      " input_5 (InputLayer)           [(None, 130)]        0           []                               \n",
      "                                                                                                  \n",
      " input_6 (InputLayer)           [(None, 130)]        0           []                               \n",
      "                                                                                                  \n",
      " embedding_3 (Embedding)        (None, 130, 300)     27304200    ['input_5[0][0]']                \n",
      "                                                                                                  \n",
      " embedding_4 (Embedding)        (None, 130, 300)     27304200    ['input_6[0][0]']                \n",
      "                                                                                                  \n",
      " time_distributed_2 (TimeDistri  (None, 130, 300)    90300       ['embedding_3[0][0]']            \n",
      " buted)                                                                                           \n",
      "                                                                                                  \n",
      " time_distributed_3 (TimeDistri  (None, 130, 300)    90300       ['embedding_4[0][0]']            \n",
      " buted)                                                                                           \n",
      "                                                                                                  \n",
      " lambda_2 (Lambda)              (None, 300)          0           ['time_distributed_2[0][0]']     \n",
      "                                                                                                  \n",
      " lambda_3 (Lambda)              (None, 300)          0           ['time_distributed_3[0][0]']     \n",
      "                                                                                                  \n",
      " concatenate_2 (Concatenate)    (None, 600)          0           ['lambda_2[0][0]',               \n",
      "                                                                  'lambda_3[0][0]']               \n",
      "                                                                                                  \n",
      " dense_11 (Dense)               (None, 200)          120200      ['concatenate_2[0][0]']          \n",
      "                                                                                                  \n",
      " dropout_6 (Dropout)            (None, 200)          0           ['dense_11[0][0]']               \n",
      "                                                                                                  \n",
      " batch_normalization_5 (BatchNo  (None, 200)         800         ['dropout_6[0][0]']              \n",
      " rmalization)                                                                                     \n",
      "                                                                                                  \n",
      " dense_12 (Dense)               (None, 200)          40200       ['batch_normalization_5[0][0]']  \n",
      "                                                                                                  \n",
      " dropout_7 (Dropout)            (None, 200)          0           ['dense_12[0][0]']               \n",
      "                                                                                                  \n",
      " batch_normalization_6 (BatchNo  (None, 200)         800         ['dropout_7[0][0]']              \n",
      " rmalization)                                                                                     \n",
      "                                                                                                  \n",
      " dense_13 (Dense)               (None, 200)          40200       ['batch_normalization_6[0][0]']  \n",
      "                                                                                                  \n",
      " dropout_8 (Dropout)            (None, 200)          0           ['dense_13[0][0]']               \n",
      "                                                                                                  \n",
      " batch_normalization_7 (BatchNo  (None, 200)         800         ['dropout_8[0][0]']              \n",
      " rmalization)                                                                                     \n",
      "                                                                                                  \n",
      " dense_14 (Dense)               (None, 200)          40200       ['batch_normalization_7[0][0]']  \n",
      "                                                                                                  \n",
      " dropout_9 (Dropout)            (None, 200)          0           ['dense_14[0][0]']               \n",
      "                                                                                                  \n",
      " batch_normalization_8 (BatchNo  (None, 200)         800         ['dropout_9[0][0]']              \n",
      " rmalization)                                                                                     \n",
      "                                                                                                  \n",
      " dense_15 (Dense)               (None, 1)            201         ['batch_normalization_8[0][0]']  \n",
      "                                                                                                  \n",
      "==================================================================================================\n",
      "Total params: 55,033,201\n",
      "Trainable params: 423,201\n",
      "Non-trainable params: 54,610,000\n",
      "__________________________________________________________________________________________________\n"
     ]
    }
   ],
   "source": [
    "question1 = Input(shape=(MAX_SEQUENCE_LENGTH,))\n",
    "question2 = Input(shape=(MAX_SEQUENCE_LENGTH,))\n",
    "\n",
    "q1 = Embedding(nb_words + 1, \n",
    "                 EMBEDDING_DIM, \n",
    "                 weights=[word_embedding_matrix], \n",
    "                 input_length=MAX_SEQUENCE_LENGTH, \n",
    "                 trainable=False)(question1)\n",
    "q1 = TimeDistributed(Dense(EMBEDDING_DIM, activation='relu'))(q1)\n",
    "q1 = Lambda(lambda x: K.max(x, axis=1), output_shape=(EMBEDDING_DIM, ))(q1)\n",
    "\n",
    "q2 = Embedding(nb_words + 1, \n",
    "                 EMBEDDING_DIM, \n",
    "                 weights=[word_embedding_matrix], \n",
    "                 input_length=MAX_SEQUENCE_LENGTH, \n",
    "                 trainable=False)(question2)\n",
    "q2 = TimeDistributed(Dense(EMBEDDING_DIM, activation='relu'))(q2)\n",
    "q2 = Lambda(lambda x: K.max(x, axis=1), output_shape=(EMBEDDING_DIM, ))(q2)\n",
    "\n",
    "merged = concatenate([q1,q2])\n",
    "merged = Dense(200, activation='relu')(merged)\n",
    "merged = Dropout(0.2)(merged)\n",
    "merged = BatchNormalization()(merged)\n",
    "merged = Dense(200, activation='relu')(merged)\n",
    "merged = Dropout(0.2)(merged)\n",
    "merged = BatchNormalization()(merged)\n",
    "merged = Dense(200, activation='relu')(merged)\n",
    "merged = Dropout(0.2)(merged)\n",
    "merged = BatchNormalization()(merged)\n",
    "merged = Dense(200, activation='relu')(merged)\n",
    "merged = Dropout(0.2)(merged)\n",
    "merged = BatchNormalization()(merged)\n",
    "\n",
    "is_duplicate = Dense(1, activation='sigmoid')(merged)\n",
    "\n",
    "model = Model(inputs=[question1,question2], outputs=is_duplicate)\n",
    "model.compile(loss='binary_crossentropy', optimizer='adam', metrics=['accuracy'])\n",
    "model.summary()"
   ]
  },
  {
   "cell_type": "code",
   "execution_count": 49,
   "id": "0c90f1df",
   "metadata": {},
   "outputs": [],
   "source": [
    "def exponent_neg_manhattan_distance(left, right):\n",
    "    return K.exp(-K.sum(K.abs(left-right), axis=1, keepdims=True))"
   ]
  },
  {
   "cell_type": "code",
   "execution_count": 41,
   "id": "0a773356",
   "metadata": {},
   "outputs": [],
   "source": [
    "model_json = model.to_json()\n",
    "with open('model.json', 'w') as json_file:\n",
    "    json_file.write(model_json)"
   ]
  },
  {
   "cell_type": "code",
   "execution_count": 52,
   "id": "8d3e9b25",
   "metadata": {},
   "outputs": [
    {
     "name": "stdout",
     "output_type": "stream",
     "text": [
      "Starting training at 2023-03-19 08:22:43.317122\n",
      "Epoch 1/10\n",
      "WARNING:tensorflow:Can save best model only with val_acc available, skipping.\n",
      "3980/3980 - 684s - loss: 0.5410 - accuracy: 0.7247 - val_loss: 0.4893 - val_accuracy: 0.7562 - 684s/epoch - 172ms/step\n",
      "Epoch 2/10\n",
      "WARNING:tensorflow:Can save best model only with val_acc available, skipping.\n",
      "3980/3980 - 641s - loss: 0.4881 - accuracy: 0.7587 - val_loss: 0.4990 - val_accuracy: 0.7465 - 641s/epoch - 161ms/step\n",
      "Epoch 3/10\n",
      "WARNING:tensorflow:Can save best model only with val_acc available, skipping.\n",
      "3980/3980 - 643s - loss: 0.4588 - accuracy: 0.7776 - val_loss: 0.4545 - val_accuracy: 0.7778 - 643s/epoch - 162ms/step\n",
      "Epoch 4/10\n",
      "WARNING:tensorflow:Can save best model only with val_acc available, skipping.\n",
      "3980/3980 - 647s - loss: 0.4335 - accuracy: 0.7936 - val_loss: 0.5279 - val_accuracy: 0.7389 - 647s/epoch - 163ms/step\n",
      "Epoch 5/10\n",
      "WARNING:tensorflow:Can save best model only with val_acc available, skipping.\n",
      "3980/3980 - 631s - loss: 0.4128 - accuracy: 0.8054 - val_loss: 0.4421 - val_accuracy: 0.7836 - 631s/epoch - 159ms/step\n",
      "Epoch 6/10\n",
      "WARNING:tensorflow:Can save best model only with val_acc available, skipping.\n",
      "3980/3980 - 649s - loss: 0.3949 - accuracy: 0.8164 - val_loss: 0.4339 - val_accuracy: 0.7882 - 649s/epoch - 163ms/step\n",
      "Epoch 7/10\n",
      "WARNING:tensorflow:Can save best model only with val_acc available, skipping.\n",
      "3980/3980 - 648s - loss: 0.3770 - accuracy: 0.8265 - val_loss: 0.4220 - val_accuracy: 0.7979 - 648s/epoch - 163ms/step\n",
      "Epoch 8/10\n",
      "WARNING:tensorflow:Can save best model only with val_acc available, skipping.\n",
      "3980/3980 - 701s - loss: 0.3630 - accuracy: 0.8347 - val_loss: 0.4197 - val_accuracy: 0.7997 - 701s/epoch - 176ms/step\n",
      "Epoch 9/10\n",
      "WARNING:tensorflow:Can save best model only with val_acc available, skipping.\n",
      "3980/3980 - 700s - loss: 0.3512 - accuracy: 0.8426 - val_loss: 0.4174 - val_accuracy: 0.7989 - 700s/epoch - 176ms/step\n",
      "Epoch 10/10\n",
      "WARNING:tensorflow:Can save best model only with val_acc available, skipping.\n",
      "3980/3980 - 717s - loss: 0.3391 - accuracy: 0.8483 - val_loss: 0.4206 - val_accuracy: 0.7954 - 717s/epoch - 180ms/step\n",
      "Training ended at 2023-03-19 10:13:45.373664\n",
      "Minutes elapsed: 111.034276\n"
     ]
    }
   ],
   "source": [
    "print(\"Starting training at\", datetime.datetime.now())\n",
    "t0 = time.time()\n",
    "callbacks = [ModelCheckpoint('question_pairs_weights.h5', monitor='val_acc', save_best_only=True)]\n",
    "history = model.fit([Q1_train, Q2_train],\n",
    "                    y_train,\n",
    "                    epochs=10,\n",
    "                    validation_data=([Q1_test, Q2_test], y_test),\n",
    "                    verbose=2,\n",
    "                    batch_size=64,\n",
    "                    callbacks=callbacks)\n",
    "t1 = time.time()\n",
    "print(\"Training ended at\", datetime.datetime.now())\n",
    "print(\"Minutes elapsed: %f\" % ((t1 - t0) / 60.))"
   ]
  },
  {
   "cell_type": "markdown",
   "id": "85c77fba",
   "metadata": {},
   "source": [
    "## Evaluation"
   ]
  },
  {
   "cell_type": "code",
   "execution_count": 53,
   "id": "154dda4c",
   "metadata": {},
   "outputs": [],
   "source": [
    "from keras.preprocessing.text import text_to_word_sequence\n",
    "import matplotlib.pyplot as plt"
   ]
  },
  {
   "cell_type": "code",
   "execution_count": 54,
   "id": "12d11bed",
   "metadata": {},
   "outputs": [
    {
     "data": {
      "image/png": "[encoded data removed]",
      "text/plain": [
       "<Figure size 640x480 with 1 Axes>"
      ]
     },
     "metadata": {},
     "output_type": "display_data"
    }
   ],
   "source": [
    "plt.plot(history.history[\"accuracy\"])\n",
    "plt.plot(history.history['val_accuracy'])\n",
    "plt.plot(history.history['loss'])\n",
    "plt.plot(history.history['val_loss'])\n",
    "\n",
    "plt.title(\"Model Evaluation\")\n",
    "plt.ylabel(\"Accuracy\")\n",
    "plt.xlabel(\"Epoch\")\n",
    "plt.legend([\"Accuracy\",\"Validation Accuracy\",\"Loss\",\"Validation Loss\"])\n",
    "\n",
    "plt.show()"
   ]
  },
  {
   "cell_type": "markdown",
   "id": "0788b558",
   "metadata": {},
   "source": [
    "## Predictions"
   ]
  },
  {
   "cell_type": "code",
   "execution_count": 55,
   "id": "e7fecc06",
   "metadata": {},
   "outputs": [],
   "source": [
    "def convert_text_to_index_array(text, dictionary):\n",
    "    words = text_to_word_sequence(text)\n",
    "    wordIndices = []\n",
    "    for word in words:\n",
    "        if word in dictionary:\n",
    "            wordIndices.append(dictionary[word])\n",
    "        else:\n",
    "            print(\"'%s' not in training corpus; ignoring.\" %(word))\n",
    "    return wordIndices"
   ]
  },
  {
   "cell_type": "code",
   "execution_count": 56,
   "id": "256c9ab2",
   "metadata": {},
   "outputs": [
    {
     "name": "stdout",
     "output_type": "stream",
     "text": [
      "1/1 [==============================] - 1s 1s/step\n",
      "[[0.5865488]]\n"
     ]
    }
   ],
   "source": [
    "question1 = \"What's r programming?\"\n",
    "question2 = \"What's in r programming?\"\n",
    "\n",
    "q1_word_seq = convert_text_to_index_array(question1,dictionary)\n",
    "q1_word_seq = [q1_word_seq]\n",
    "q2_word_seq = convert_text_to_index_array(question2,dictionary)\n",
    "q2_word_seq = [q2_word_seq]\n",
    "q1_data = pad_sequences(q1_word_seq, maxlen=MAX_SEQUENCE_LENGTH)\n",
    "q2_data = pad_sequences(q2_word_seq, maxlen=MAX_SEQUENCE_LENGTH)\n",
    "\n",
    "pred = model.predict([q1_data,q2_data])\n",
    "print(pred)"
   ]
  },
  {
   "cell_type": "code",
   "execution_count": 57,
   "id": "208f9ddc",
   "metadata": {},
   "outputs": [
    {
     "name": "stdout",
     "output_type": "stream",
     "text": [
      "1/1 [==============================] - 0s 226ms/step\n",
      "[[0.04906398]]\n"
     ]
    }
   ],
   "source": [
    "question1 = \"How to learn english?\"\n",
    "question2 = \"Why can't I dance?\"\n",
    "\n",
    "q1_word_seq = convert_text_to_index_array(question1,dictionary)\n",
    "q1_word_seq = [q1_word_seq]\n",
    "q2_word_seq = convert_text_to_index_array(question2,dictionary)\n",
    "q2_word_seq = [q2_word_seq]\n",
    "q1_data = pad_sequences(q1_word_seq, maxlen=MAX_SEQUENCE_LENGTH)\n",
    "q2_data = pad_sequences(q2_word_seq, maxlen=MAX_SEQUENCE_LENGTH)\n",
    "\n",
    "pred = model.predict([q1_data,q2_data])\n",
    "print(pred)"
   ]
  },
  {
   "cell_type": "code",
   "execution_count": null,
   "id": "c8b8114e",
   "metadata": {},
   "outputs": [],
   "source": []
  }
 ],
 "metadata": {
  "kernelspec": {
   "display_name": "Python 3 (ipykernel)",
   "language": "python",
   "name": "python3"
  },
  "language_info": {
   "codemirror_mode": {
    "name": "ipython",
    "version": 3
   },
   "file_extension": ".py",
   "mimetype": "text/x-python",
   "name": "python",
   "nbconvert_exporter": "python",
   "pygments_lexer": "ipython3",
   "version": "3.10.8"
  }
 },
 "nbformat": 4,
 "nbformat_minor": 5
}
